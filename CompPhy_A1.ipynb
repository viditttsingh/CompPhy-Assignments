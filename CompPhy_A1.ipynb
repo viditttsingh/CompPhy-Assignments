{
  "nbformat": 4,
  "nbformat_minor": 0,
  "metadata": {
    "colab": {
      "provenance": []
    },
    "kernelspec": {
      "name": "python3",
      "display_name": "Python 3"
    },
    "language_info": {
      "name": "python"
    }
  },
  "cells": [
    {
      "cell_type": "markdown",
      "source": [
        "# **Question-11**"
      ],
      "metadata": {
        "id": "KDMg_V2FW8kE"
      }
    },
    {
      "cell_type": "code",
      "execution_count": 12,
      "metadata": {
        "colab": {
          "base_uri": "https://localhost:8080/"
        },
        "id": "4SIiRxH_x359",
        "outputId": "bdde1d1e-21d7-4a03-d45f-b1fcdd300f80"
      },
      "outputs": [
        {
          "output_type": "stream",
          "name": "stdout",
          "text": [
            "Solution(a):\n",
            "[ 0.03508772 -0.23684211  0.65789474]\n",
            "\n",
            "Solution(b):\n",
            "[0.99578947 0.95789474 0.79157895]\n",
            "\n",
            "Solution(c):\n",
            "[-0.79764706  2.79529412 -0.25882353 -2.25176471]\n",
            "\n",
            "Solution(d):\n",
            "[ 0.78663239 -1.00257069  1.86632391  1.9125964   1.98971722]\n"
          ]
        }
      ],
      "source": [
        "#Question-11\n",
        "import numpy as np\n",
        "\n",
        "#******************************************** (a) ***************************************\n",
        "# Define the coefficients matrix (A)\n",
        "A = np.array([[3, -1, 1],\n",
        "              [3, 6, 2],\n",
        "              [3, 3, 7]])\n",
        "\n",
        "# Definethe constants vector (b)\n",
        "b = np.array([1, 0, 4])\n",
        "\n",
        "# Solve the system of linear equations\n",
        "x = np.linalg.solve(A, b)\n",
        "\n",
        "print(\"Solution(a):\")\n",
        "print(x)\n",
        "print()\n",
        "\n",
        "\n",
        "#******************************************** (b) ***************************************\n",
        "# Define the coefficients matrix (A)\n",
        "A = np.array([[10, -1, 0],\n",
        "              [-1, 10, -2],\n",
        "              [0, -2, 10]])\n",
        "\n",
        "# Definethe constants vector (b)\n",
        "b = np.array([9, 7, 6])\n",
        "\n",
        "# Solve the system of linear equations\n",
        "x = np.linalg.solve(A, b)\n",
        "\n",
        "print(\"Solution(b):\")\n",
        "print(x)\n",
        "print()\n",
        "\n",
        "\n",
        "#******************************************** (c) ***************************************\n",
        "# Define the coefficients matrix (A)\n",
        "A = np.array([[10, 5, 0, 0],\n",
        "              [5, 10, -4, 0],\n",
        "              [0, -4, 8, -1],\n",
        "              [0, 0, -1, 5]])\n",
        "\n",
        "# Definethe constants vector (b)\n",
        "b = np.array([6, 25, -11, -11])\n",
        "\n",
        "# Solve the system of linear equations\n",
        "x = np.linalg.solve(A, b)\n",
        "\n",
        "print(\"Solution(c):\")\n",
        "print(x)\n",
        "print()\n",
        "\n",
        "\n",
        "#******************************************** (d) ***************************************\n",
        "# Define the coefficients matrix (A)\n",
        "A = np.array([[4, 1, 1, 0, 1],\n",
        "              [-1, -3, 1, 1, 0],\n",
        "              [2, 1, 5, -1, -1],\n",
        "              [-1, -1, -1, 4, 0],\n",
        "              [0, 2, -1, 1, 4]])\n",
        "\n",
        "# Definethe constants vector (b)\n",
        "b = np.array([6, 6, 6, 6, 6])\n",
        "\n",
        "# Solve the system of linear equations\n",
        "x = np.linalg.solve(A, b)\n",
        "\n",
        "print(\"Solution(d):\")\n",
        "print(x)"
      ]
    },
    {
      "cell_type": "markdown",
      "source": [
        "# **Question-16**"
      ],
      "metadata": {
        "id": "KbECSXWtXdFe"
      }
    },
    {
      "cell_type": "code",
      "source": [
        "#Question-16\n",
        "import numpy as np\n",
        "\n",
        "#Defining the coefficients matrix (A)\n",
        "A=np.array([[0.2, 0.1, 1, 1, 0],\n",
        "            [0.1, 4, -1, 1, -1],\n",
        "            [1, -1, 60, 0, -2],\n",
        "            [1, 1, 0, 8, 4],\n",
        "            [0, -1, -2, 4, 700]]).astype(float)\n",
        "\n",
        "#Defining the vector b\n",
        "b=np.array([1, 2, 3, 4, 5]).astype(float)\n",
        "\n",
        "#Defining the correct solution\n",
        "xt = np.array([7.859713071, 0.422926408, -0.073592239, -0.540643016, 0.010626163])\n",
        "\n",
        "#Defining initial guess\n",
        "x0=np.array([0,0,0,0,0]).astype(float)"
      ],
      "metadata": {
        "id": "Tk_Ctu3EXaQY"
      },
      "execution_count": 69,
      "outputs": []
    },
    {
      "cell_type": "code",
      "source": [
        "#Solution using Jacobi method\n",
        "\n",
        "#Defining function for Jacobi method\n",
        "def jacobi(A, b, x0, tol=0.01, max=100):\n",
        "    n = len(A)\n",
        "    U = -np.triu(A,k=1)\n",
        "    L = -np.tril(A,k=-1)\n",
        "    D = A + U + L\n",
        "    T = np.matmul(np.linalg.inv(D),np.add(L,U))\n",
        "    C = np.matmul(np.linalg.inv(D),b)\n",
        "    x = np.copy(x0)\n",
        "    for k in range(max):\n",
        "        x_old = np.copy(x)\n",
        "        x = np.add(np.matmul(T,x),C)\n",
        "        if np.linalg.norm(x - xt) < tol:\n",
        "            return x,k+1\n",
        "    raise ValueError(\"Jacobi method did not converge\")\n",
        "\n",
        "#Solving the given system\n",
        "solution = jacobi(A, b, x0)\n",
        "print(\"Solution using Jacobi method:\", solution[0])\n",
        "print(\"Number of iterations:\", solution[1])"
      ],
      "metadata": {
        "colab": {
          "base_uri": "https://localhost:8080/"
        },
        "id": "cUVTAwAKmviM",
        "outputId": "fa33b32a-c12e-486a-add7-301dac95a8bf"
      },
      "execution_count": 70,
      "outputs": [
        {
          "output_type": "stream",
          "name": "stdout",
          "text": [
            "Solution using Jacobi method: [ 7.86798447  0.4239069  -0.0731638  -0.5370925   0.01063184]\n",
            "Number of iterations: 39\n"
          ]
        }
      ]
    },
    {
      "cell_type": "code",
      "source": [
        "#Solution using Gauss-Seidel method\n",
        "\n",
        "#Defining function for Gauss-Seidel method\n",
        "def gauss_seidel(A, b, x0, tol=0.01, max=1000):\n",
        "    n = len(A)\n",
        "    U = -np.triu(A,k=1)\n",
        "    L = -np.tril(A,k=-1)\n",
        "    D = A + U + L\n",
        "    T = np.matmul(np.linalg.inv(np.add(D,-L)),U)\n",
        "    C = np.matmul(np.linalg.inv(np.add(D,-L)),b)\n",
        "    x = np.copy(x0)\n",
        "    for k in range(max):\n",
        "        x_old = np.copy(x)\n",
        "        x = np.add(np.matmul(T,x),C)\n",
        "        if np.linalg.norm(x - xt) < tol:\n",
        "            return x,k+1\n",
        "    raise ValueError(\"Gauss-Seidel method did not converge\")\n",
        "\n",
        "#Solving the given system\n",
        "solution = gauss_seidel(A, b, x0)\n",
        "print(\"Solution using Gauss-Seidel method:\", solution[0])\n",
        "print(\"Number of iterations:\", solution[1])"
      ],
      "metadata": {
        "colab": {
          "base_uri": "https://localhost:8080/"
        },
        "id": "zYZIPUM0nrkw",
        "outputId": "8b9dba2e-3b2d-419a-94a0-9e81d556a641"
      },
      "execution_count": 73,
      "outputs": [
        {
          "output_type": "stream",
          "name": "stdout",
          "text": [
            "Solution using Gauss-Seidel method: [ 7.85091478  0.42280131 -0.07344797 -0.53952326  0.01062   ]\n",
            "Number of iterations: 18\n"
          ]
        }
      ]
    },
    {
      "cell_type": "code",
      "source": [
        "#Solution using Relaxation method\n",
        "\n",
        "#Defining function for Relaxation method\n",
        "def relaxation(A, b, x0, tol=0.01, max=1000, omega=1.25):\n",
        "    n = len(b)\n",
        "    x = np.copy(x0)\n",
        "    for k in range(max):\n",
        "        x_old = np.copy(x)\n",
        "        for i in range(n):\n",
        "            sum = 0\n",
        "            for j in range(n):\n",
        "                if j != i:\n",
        "                    sum += A[i][j] * x[j]\n",
        "            x[i] = (1 - omega) * x_old[i] + (omega / A[i][i]) * (b[i] - sum)\n",
        "        r = np.multiply(np.diag(A),np.add(x,-x_old))\n",
        "        if np.linalg.norm(x - xt) < tol:\n",
        "            return x,k+1\n",
        "    raise ValueError(\"Relaxation method did not converge\")\n",
        "\n",
        "solution = relaxation(A, b, x0)\n",
        "print(\"Solution using Relaxation method:\", solution[0])\n",
        "print(\"Number of iterations:\", solution[1])"
      ],
      "metadata": {
        "colab": {
          "base_uri": "https://localhost:8080/"
        },
        "id": "L3lif37poXV0",
        "outputId": "9fe39c00-eae2-4389-86c6-f493ed99d886"
      },
      "execution_count": 74,
      "outputs": [
        {
          "output_type": "stream",
          "name": "stdout",
          "text": [
            "Solution using Relaxation method: [ 7.85152701  0.42277371 -0.07348303 -0.53978369  0.01062286]\n",
            "Number of iterations: 7\n"
          ]
        }
      ]
    },
    {
      "cell_type": "code",
      "source": [
        "#Solution using Conjugate Gradient method\n",
        "\n",
        "#Defining function for Conjugate Gradient method\n",
        "def conjugate(A, b, x0, tol=0.01, max=1000):\n",
        "    r = b - np.dot(A, x0)\n",
        "    p = np.copy(r)\n",
        "    x = np.copy(x0)\n",
        "    rsold = np.dot(r, r)\n",
        "    for k in range(max):\n",
        "        Ap = np.dot(A, p)\n",
        "        alpha = rsold / np.dot(p, Ap)\n",
        "        x = x + alpha * p\n",
        "        if np.linalg.norm(x - xt) < tol:\n",
        "            return x,k+1\n",
        "        r = r - alpha * Ap\n",
        "        rsnew = np.dot(r, r)\n",
        "        beta = (rsnew / rsold)\n",
        "        p = r + beta * p\n",
        "        rsold = np.copy(rsnew)\n",
        "    raise ValueError(\"Relaxation method did not converge\")\n",
        "\n",
        "solution = conjugate(A, b, x0)\n",
        "print(\"Solution using Conjugate Gradient method:\", solution[0])\n",
        "print(\"Number of iterations:\", solution[1])\n"
      ],
      "metadata": {
        "colab": {
          "base_uri": "https://localhost:8080/"
        },
        "id": "P5F28sgco0zA",
        "outputId": "c15ad9d0-1ccf-4bb2-86dd-bcaf91d78556"
      },
      "execution_count": 76,
      "outputs": [
        {
          "output_type": "stream",
          "name": "stdout",
          "text": [
            "Solution using Conjugate Gradient method: [ 7.85971308  0.42292641 -0.07359224 -0.54064302  0.01062616]\n",
            "Number of iterations: 5\n"
          ]
        }
      ]
    },
    {
      "cell_type": "markdown",
      "source": [
        "# **Question-17**"
      ],
      "metadata": {
        "id": "D3nMk5cNXDyC"
      }
    },
    {
      "cell_type": "code",
      "source": [
        "#Question-17\n",
        "import numpy as np\n",
        "\n",
        "#Defining function for eigenvalues using QR decomposition\n",
        "def qr_eigen(A, max=100, tol=1e-5):\n",
        "    n = A.shape[0]\n",
        "    V = np.eye(n)\n",
        "\n",
        "    for _ in range(max):\n",
        "        Q, R = np.linalg.qr(A)\n",
        "        A = np.dot(R, Q)\n",
        "        V = np.dot(V, Q)\n",
        "        if np.abs(A.diagonal(-1)).max() < tol:\n",
        "            break\n",
        "\n",
        "    eigenvalues = A.diagonal()\n",
        "    return eigenvalues, V\n",
        "\n",
        "#Defining the matrix A\n",
        "A=np.array([[5,-2],\n",
        "            [-2,8]])\n",
        "\n",
        "#Evaluating the eigenvalues using QR decomposition\n",
        "eigenvalues, eigenvectors = qr_eigen(A)\n",
        "print(\"Eigenvalues using QR decomposition:\")\n",
        "print(eigenvalues)\n",
        "print()\n",
        "\n",
        "#Evaluating the eigenvalues using numpy.linalg.eigh\n",
        "eigenvalues2, eigenvectors2=np.linalg.eigh(A)\n",
        "print(\"Eigenvalues using numpy.linalg.eigh:\")\n",
        "print(eigenvalues2)\n",
        "\n",
        "#*********************Comparison of results: The eigenvalues that we obtain are the same from both the methods.**********************"
      ],
      "metadata": {
        "colab": {
          "base_uri": "https://localhost:8080/"
        },
        "id": "vgvAe-BCEqfE",
        "outputId": "9ce56168-fb0d-48f0-9b37-df5e1b6d6a9a"
      },
      "execution_count": 22,
      "outputs": [
        {
          "output_type": "stream",
          "name": "stdout",
          "text": [
            "Eigenvalues using QR decomposition:\n",
            "[9. 4.]\n",
            "\n",
            "Eigenvalues using numpy.linalg.eigh:\n",
            "[4. 9.]\n"
          ]
        }
      ]
    },
    {
      "cell_type": "markdown",
      "source": [
        "# **Question-18**"
      ],
      "metadata": {
        "id": "KknYp0CtXJKQ"
      }
    },
    {
      "cell_type": "code",
      "source": [
        "#Question-18\n",
        "import numpy as np\n",
        "\n",
        "#Defining function for power method\n",
        "def powmeth(A, max=1000, tol=0.01):\n",
        "    n = A.shape[0]\n",
        "    x = np.random.rand(n)\n",
        "    x /= np.linalg.norm(x)\n",
        "    ev0 = 0\n",
        "\n",
        "    for k in range(max):\n",
        "        xn = np.matmul(A, x)\n",
        "        ev = np.dot(xn, x)\n",
        "        xn /= np.linalg.norm(xn)\n",
        "\n",
        "        if abs(ev0 - ev)/ev < tol:\n",
        "            break\n",
        "\n",
        "        x = xn\n",
        "        ev0 = ev\n",
        "\n",
        "    return ev\n",
        "\n",
        "#Defining the given matrix A\n",
        "A = np.array([[2,-1,0],\n",
        "              [-1,2,-1],\n",
        "              [0,-1,2]])\n",
        "\n",
        "#Evaluating the dominant eigenvalue\n",
        "eigenvalue = powmeth(A)\n",
        "\n",
        "print(\"Dominant eigenvalue=\", eigenvalue)"
      ],
      "metadata": {
        "colab": {
          "base_uri": "https://localhost:8080/"
        },
        "id": "cENXwaqANUNo",
        "outputId": "ebea99d7-a936-42d4-a3a2-b3c3135fdc2e"
      },
      "execution_count": 38,
      "outputs": [
        {
          "output_type": "stream",
          "name": "stdout",
          "text": [
            "Dominant eigenvalue= 3.414116831658673\n"
          ]
        }
      ]
    },
    {
      "cell_type": "markdown",
      "source": [
        "# **Question-19**"
      ],
      "metadata": {
        "id": "TUeYp0udWwG7"
      }
    },
    {
      "cell_type": "code",
      "source": [
        "#Question-19-(a)\n",
        "import numpy as np\n",
        "\n",
        "#Defining the given matrix\n",
        "A = np.array([[2, 1],\n",
        "              [1, 0]])\n",
        "\n",
        "#Defining the S-matrix\n",
        "def sigma(sv, m, n):\n",
        "    Sigma = np.zeros((m, n))\n",
        "\n",
        "    min_dim = min(m, n)\n",
        "    Sigma[:min_dim, :min_dim] = np.diag(sv)\n",
        "\n",
        "    return Sigma\n",
        "\n",
        "#Singular Value Decomposition\n",
        "U,S,Vt=np.linalg.svd(A)\n",
        "Sigma = sigma(S,U.shape[1],Vt.shape[1])\n",
        "print(\"Solution for part (a):\")\n",
        "print()\n",
        "print(\"U matrix:\")\n",
        "print(U)\n",
        "print(\"\\nS matrix:\")\n",
        "print(Sigma)\n",
        "print(\"\\nV transpose matrix:\")\n",
        "print(Vt)\n",
        "\n",
        "#Demonstration that the decomposition is correct\n",
        "A1 = np.dot(np.dot(U,Sigma),Vt)\n",
        "print(\"\\nProduct of decomposed matrices:\")\n",
        "print(A1)\n",
        "\n",
        "#Time taken by computation: 1 second"
      ],
      "metadata": {
        "colab": {
          "base_uri": "https://localhost:8080/"
        },
        "id": "jNuXNaB1PCXR",
        "outputId": "fd95b8b3-41bf-4a2b-f94f-7dbbf47a4795"
      },
      "execution_count": 64,
      "outputs": [
        {
          "output_type": "stream",
          "name": "stdout",
          "text": [
            "Solution for part (a):\n",
            "\n",
            "U matrix:\n",
            "[[-0.92387953 -0.38268343]\n",
            " [-0.38268343  0.92387953]]\n",
            "\n",
            "S matrix:\n",
            "[[2.41421356 0.        ]\n",
            " [0.         0.41421356]]\n",
            "\n",
            "V transpose matrix:\n",
            "[[-0.92387953 -0.38268343]\n",
            " [ 0.38268343 -0.92387953]]\n",
            "\n",
            "Product of decomposed matrices:\n",
            "[[ 2.00000000e+00  1.00000000e+00]\n",
            " [ 1.00000000e+00 -3.81016887e-17]]\n"
          ]
        }
      ]
    },
    {
      "cell_type": "code",
      "source": [
        "#Question-19-(b)\n",
        "import numpy as np\n",
        "\n",
        "#Defining the given matrix\n",
        "A = np.array([[2, 1],\n",
        "              [1, 0],\n",
        "              [0, 1]])\n",
        "\n",
        "#Defining the S-matrix\n",
        "def sigma(sv, m, n):\n",
        "    Sigma = np.zeros((m, n))\n",
        "\n",
        "    min_dim = min(m, n)\n",
        "    Sigma[:min_dim, :min_dim] = np.diag(sv)\n",
        "\n",
        "    return Sigma\n",
        "\n",
        "#Singular Value Decomposition\n",
        "U,S,Vt=np.linalg.svd(A)\n",
        "Sigma = sigma(S,U.shape[1],Vt.shape[1])\n",
        "print(\"Solution for part (b):\")\n",
        "print()\n",
        "print(\"U matrix:\")\n",
        "print(U)\n",
        "print(\"\\nS matrix:\")\n",
        "print(Sigma)\n",
        "print(\"\\nV transpose matrix:\")\n",
        "print(Vt)\n",
        "\n",
        "#Demonstration that the decomposition is correct\n",
        "A1 = np.dot(np.dot(U,Sigma),Vt)\n",
        "print(\"\\nProduct of decomposed matrices:\")\n",
        "print(A1)\n",
        "\n",
        "#Time taken by computation: 1 second"
      ],
      "metadata": {
        "colab": {
          "base_uri": "https://localhost:8080/"
        },
        "id": "4_6WGpxqUmsw",
        "outputId": "95f7b6c2-b6b7-4202-baf4-bdb7955fae06"
      },
      "execution_count": 65,
      "outputs": [
        {
          "output_type": "stream",
          "name": "stdout",
          "text": [
            "Solution for part (b):\n",
            "\n",
            "U matrix:\n",
            "[[-9.12870929e-01  4.80183453e-17 -4.08248290e-01]\n",
            " [-3.65148372e-01 -4.47213595e-01  8.16496581e-01]\n",
            " [-1.82574186e-01  8.94427191e-01  4.08248290e-01]]\n",
            "\n",
            "S matrix:\n",
            "[[2.44948974 0.        ]\n",
            " [0.         1.        ]\n",
            " [0.         0.        ]]\n",
            "\n",
            "V transpose matrix:\n",
            "[[-0.89442719 -0.4472136 ]\n",
            " [-0.4472136   0.89442719]]\n",
            "\n",
            "Product of decomposed matrices:\n",
            "[[ 2.00000000e+00  1.00000000e+00]\n",
            " [ 1.00000000e+00 -6.81060746e-17]\n",
            " [-1.23617226e-16  1.00000000e+00]]\n"
          ]
        }
      ]
    },
    {
      "cell_type": "code",
      "source": [
        "#Question-19-(c)\n",
        "import numpy as np\n",
        "\n",
        "#Defining the given matrix\n",
        "A = np.array([[2, 1],\n",
        "              [-1, 1],\n",
        "              [1, 1],\n",
        "              [2, -1]])\n",
        "\n",
        "#Defining the S-matrix\n",
        "def sigma(sv, m, n):\n",
        "    Sigma = np.zeros((m, n))\n",
        "\n",
        "    min_dim = min(m, n)\n",
        "    Sigma[:min_dim, :min_dim] = np.diag(sv)\n",
        "\n",
        "    return Sigma\n",
        "\n",
        "#Singular Value Decomposition\n",
        "U,S,Vt=np.linalg.svd(A)\n",
        "Sigma = sigma(S,U.shape[1],Vt.shape[1])\n",
        "print(\"Solution for part (c):\")\n",
        "print()\n",
        "print(\"U matrix:\")\n",
        "print(U)\n",
        "print(\"\\nS matrix:\")\n",
        "print(Sigma)\n",
        "print(\"\\nV transpose matrix:\")\n",
        "print(Vt)\n",
        "\n",
        "#Demonstration that the decomposition is correct\n",
        "A1 = np.dot(np.dot(U,Sigma),Vt)\n",
        "print(\"\\nProduct of decomposed matrices:\")\n",
        "print(A1)\n",
        "\n",
        "#Time taken by computation: 1 second"
      ],
      "metadata": {
        "colab": {
          "base_uri": "https://localhost:8080/"
        },
        "id": "Zx_5DersU_UB",
        "outputId": "5e4d087a-531c-4134-860c-b142b2139429"
      },
      "execution_count": 66,
      "outputs": [
        {
          "output_type": "stream",
          "name": "stdout",
          "text": [
            "Solution for part (c):\n",
            "\n",
            "U matrix:\n",
            "[[-0.63245553 -0.5        -0.52229321 -0.27786652]\n",
            " [ 0.31622777 -0.5        -0.30196857  0.74753928]\n",
            " [-0.31622777 -0.5         0.79704714  0.12130893]\n",
            " [-0.63245553  0.5        -0.02721464  0.59098169]]\n",
            "\n",
            "S matrix:\n",
            "[[3.16227766 0.        ]\n",
            " [0.         2.        ]\n",
            " [0.         0.        ]\n",
            " [0.         0.        ]]\n",
            "\n",
            "V transpose matrix:\n",
            "[[-1. -0.]\n",
            " [-0. -1.]]\n",
            "\n",
            "Product of decomposed matrices:\n",
            "[[ 2.  1.]\n",
            " [-1.  1.]\n",
            " [ 1.  1.]\n",
            " [ 2. -1.]]\n"
          ]
        }
      ]
    },
    {
      "cell_type": "code",
      "source": [
        "#Question-19-(d)\n",
        "import numpy as np\n",
        "\n",
        "#Defining the given matrix\n",
        "A = np.array([[1, 1, 0],\n",
        "              [-1, 0, 1],\n",
        "              [0, 1, -1],\n",
        "              [1, 1, -1]])\n",
        "\n",
        "#Defining the S-matrix\n",
        "def sigma(sv, m, n):\n",
        "    Sigma = np.zeros((m, n))\n",
        "\n",
        "    min_dim = min(m, n)\n",
        "    Sigma[:min_dim, :min_dim] = np.diag(sv)\n",
        "\n",
        "    return Sigma\n",
        "\n",
        "#Singular Value Decomposition\n",
        "U,S,Vt=np.linalg.svd(A)\n",
        "Sigma = sigma(S,U.shape[1],Vt.shape[1])\n",
        "print(\"Solution for part (d):\")\n",
        "print()\n",
        "print(\"U matrix:\")\n",
        "print(U)\n",
        "print(\"\\nS matrix:\")\n",
        "print(Sigma)\n",
        "print(\"\\nV transpose matrix:\")\n",
        "print(Vt)\n",
        "\n",
        "#Demonstration that the decomposition is correct\n",
        "A1 = np.dot(np.dot(U,Sigma),Vt)\n",
        "print(\"\\nProduct of decomposed matrices:\")\n",
        "print(A1)\n",
        "\n",
        "#Time taken by computation: 2 seconds"
      ],
      "metadata": {
        "colab": {
          "base_uri": "https://localhost:8080/"
        },
        "id": "4mOY5fGcVMOU",
        "outputId": "0354508f-0785-4b5f-d72b-8305b5a6fb5d"
      },
      "execution_count": 67,
      "outputs": [
        {
          "output_type": "stream",
          "name": "stdout",
          "text": [
            "Solution for part (d):\n",
            "\n",
            "U matrix:\n",
            "[[-4.36435780e-01  7.07106781e-01  4.08248290e-01 -3.77964473e-01]\n",
            " [ 4.36435780e-01  7.07106781e-01 -4.08248290e-01  3.77964473e-01]\n",
            " [-4.36435780e-01  3.33066907e-16 -8.16496581e-01 -3.77964473e-01]\n",
            " [-6.54653671e-01  3.33066907e-16 -5.55111512e-17  7.55928946e-01]]\n",
            "\n",
            "S matrix:\n",
            "[[2.64575131 0.         0.        ]\n",
            " [0.         1.         0.        ]\n",
            " [0.         0.         1.        ]\n",
            " [0.         0.         0.        ]]\n",
            "\n",
            "V transpose matrix:\n",
            "[[-0.57735027 -0.57735027  0.57735027]\n",
            " [ 0.          0.70710678  0.70710678]\n",
            " [ 0.81649658 -0.40824829  0.40824829]]\n",
            "\n",
            "Product of decomposed matrices:\n",
            "[[ 1.00000000e+00  1.00000000e+00  2.52368982e-17]\n",
            " [-1.00000000e+00  1.27610516e-17  1.00000000e+00]\n",
            " [-8.05746207e-17  1.00000000e+00 -1.00000000e+00]\n",
            " [ 1.00000000e+00  1.00000000e+00 -1.00000000e+00]]\n"
          ]
        }
      ]
    },
    {
      "cell_type": "code",
      "source": [
        "#Question-19-(e)\n",
        "import numpy as np\n",
        "\n",
        "#Defining the given matrix\n",
        "A = np.array([[0, 1, 1],\n",
        "              [0, 1, 0],\n",
        "              [1, 1, 0],\n",
        "              [0, 1, 0],\n",
        "              [1, 0, 1]])\n",
        "\n",
        "#Defining the S-matrix\n",
        "def sigma(sv, m, n):\n",
        "    Sigma = np.zeros((m, n))\n",
        "\n",
        "    min_dim = min(m, n)\n",
        "    Sigma[:min_dim, :min_dim] = np.diag(sv)\n",
        "\n",
        "    return Sigma\n",
        "\n",
        "#Singular Value Decomposition\n",
        "U,S,Vt=np.linalg.svd(A)\n",
        "Sigma = sigma(S,U.shape[1],Vt.shape[1])\n",
        "print(\"Solution for part (e):\")\n",
        "print()\n",
        "print(\"U matrix:\")\n",
        "print(U)\n",
        "print(\"\\nS matrix:\")\n",
        "print(Sigma)\n",
        "print(\"\\nV transpose matrix:\")\n",
        "print(Vt)\n",
        "\n",
        "#Demonstration that the decomposition is correct\n",
        "A1 = np.dot(np.dot(U,Sigma),Vt)\n",
        "print(\"\\nProduct of decomposed matrices:\")\n",
        "print(A1)\n",
        "\n",
        "#Time taken by computation: 2 seconds"
      ],
      "metadata": {
        "colab": {
          "base_uri": "https://localhost:8080/"
        },
        "id": "AnQmW3LCVglW",
        "outputId": "6c3b2df6-f21d-4319-fbf7-10799fb50334"
      },
      "execution_count": 68,
      "outputs": [
        {
          "output_type": "stream",
          "name": "stdout",
          "text": [
            "Solution for part (e):\n",
            "\n",
            "U matrix:\n",
            "[[-5.47722558e-01  3.50476164e-16  7.07106781e-01 -1.32058463e-01\n",
            "  -4.27271064e-01]\n",
            " [-3.65148372e-01  4.08248290e-01 -1.48383873e-16 -5.43516408e-01\n",
            "   6.36073827e-01]\n",
            " [-5.47722558e-01 -7.02388902e-17 -7.07106781e-01 -1.32058463e-01\n",
            "  -4.27271064e-01]\n",
            " [-3.65148372e-01  4.08248290e-01 -1.71841615e-16  8.07633333e-01\n",
            "   2.18468301e-01]\n",
            " [-3.65148372e-01 -8.16496581e-01  2.43277252e-16  1.32058463e-01\n",
            "   4.27271064e-01]]\n",
            "\n",
            "S matrix:\n",
            "[[2.23606798 0.         0.        ]\n",
            " [0.         1.41421356 0.        ]\n",
            " [0.         0.         1.        ]\n",
            " [0.         0.         0.        ]\n",
            " [0.         0.         0.        ]]\n",
            "\n",
            "V transpose matrix:\n",
            "[[-4.08248290e-01 -8.16496581e-01 -4.08248290e-01]\n",
            " [-5.77350269e-01  5.77350269e-01 -5.77350269e-01]\n",
            " [-7.07106781e-01 -3.88578059e-16  7.07106781e-01]]\n",
            "\n",
            "Product of decomposed matrices:\n",
            "[[-1.88904597e-16  1.00000000e+00  1.00000000e+00]\n",
            " [-7.58392910e-17  1.00000000e+00 -7.62142974e-17]\n",
            " [ 1.00000000e+00  1.00000000e+00 -3.49858899e-16]\n",
            " [-1.23350918e-16  1.00000000e+00 -1.56900183e-16]\n",
            " [ 1.00000000e+00  2.27936865e-16  1.00000000e+00]]\n"
          ]
        }
      ]
    }
  ]
}